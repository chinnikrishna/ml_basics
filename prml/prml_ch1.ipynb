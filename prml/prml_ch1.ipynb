{
 "cells": [
  {
   "cell_type": "markdown",
   "metadata": {},
   "source": [
    "# Introduction\n",
    "1) Machine Learning can be defined as set of methods that can automatically detect pattern in data and the use the patterns to predict future data.\n",
    "\n",
    "2) The ability to correctly categorize new examples that differ from training set is called <strong>generalization</strong>.\n",
    "\n",
    "3) <strong>Supervised Learning</strong>: In supervised learning, training data has both input and target variables available. We have to find a mapping between input and target data both in classification and regression problmes\n",
    "\n",
    "4) <strong>Unsupervised Learning</strong>: In unsupervised learning, the goal is to discover groups of similar examples within the data i.e., clustering or density estimation"
   ]
  },
  {
   "cell_type": "markdown",
   "metadata": {},
   "source": [
    "### Polynomial Curve Fitting\n",
    "Let us consider a supervised learning problem in which the dataset is made up of \n",
    "\n",
    "Input variable X = {1, 2, 3.....x<sub>n<\\sub>} \n",
    "\n",
    "Target variable T = $\\sin$(2$\\pi$x) + noise\n",
    "\n",
    "Given a new value of x, we have to find accurate value of t i.e., we have to <strong>estimate the underlying distribution or function</strong>\n",
    "    \n",
    "This is the central idea in many machine learning problems\n",
    "\n",
    "A simple approach can be curve fitting where we can fit the data to a polynomial of form\n",
    "\n",
    "y(x, W) = $\\sum ^{M}_{i=0}$ $w_{j}x^{j}$ = $w_0 + w_1x^1 + w_2 x^2 + ..... + w_M x^M$\n",
    "\n",
    "To fit the data we need two things 1) Appropriate values of W 2) Appropriate order of polynomial M\n"
   ]
  },
  {
   "cell_type": "code",
   "execution_count": null,
   "metadata": {},
   "outputs": [],
   "source": []
  }
 ],
 "metadata": {
  "kernelspec": {
   "display_name": "Python 3",
   "language": "python",
   "name": "python3"
  },
  "language_info": {
   "codemirror_mode": {
    "name": "ipython",
    "version": 3
   },
   "file_extension": ".py",
   "mimetype": "text/x-python",
   "name": "python",
   "nbconvert_exporter": "python",
   "pygments_lexer": "ipython3",
   "version": "3.7.2"
  }
 },
 "nbformat": 4,
 "nbformat_minor": 2
}
